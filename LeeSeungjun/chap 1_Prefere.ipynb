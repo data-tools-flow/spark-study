{
 "cells": [
  {
   "cell_type": "markdown",
   "id": "2a055eeb",
   "metadata": {},
   "source": [
    "spark_test.py 생성하여 Terminal에서 파일\n",
    "\n",
    "아래는 터미널 실행 코드"
   ]
  },
  {
   "cell_type": "markdown",
   "id": "508ca509",
   "metadata": {},
   "source": [
    "#JDK 17 다운로드 후 설치 확인\n",
    "where java\n",
    "java --version"
   ]
  },
  {
   "cell_type": "markdown",
   "id": "085ce37e",
   "metadata": {},
   "source": [
    "JAVA_HOME → JDK 설치 경로 (C:\\Program Files\\Java\\jdk-17.0.12)\n",
    "\n",
    "Path → %JAVA_HOME%\\bin 추가\n",
    "\n",
    "VSCode 터미널에서 java -version, where java 모두 정상 출력"
   ]
  },
  {
   "cell_type": "markdown",
   "id": "68664316",
   "metadata": {},
   "source": [
    "cd C:\\Users\\junav\\spark-study\\spark-study\\LeeSeungjun\n",
    "\n",
    "REM (선택) PySpark가 python3 경고 안 띄우게\n",
    "set PYSPARK_PYTHON=python\n",
    "set PYSPARK_DRIVER_PYTHON=python\n",
    "\n",
    "python -u pyspark_test.py\n"
   ]
  }
 ],
 "metadata": {
  "kernelspec": {
   "display_name": "Python 3",
   "language": "python",
   "name": "python3"
  },
  "language_info": {
   "codemirror_mode": {
    "name": "ipython",
    "version": 3
   },
   "file_extension": ".py",
   "mimetype": "text/x-python",
   "name": "python",
   "nbconvert_exporter": "python",
   "pygments_lexer": "ipython3",
   "version": "3.11.8"
  }
 },
 "nbformat": 4,
 "nbformat_minor": 5
}
