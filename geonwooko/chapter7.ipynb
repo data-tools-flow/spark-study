{
 "cells": [
  {
   "cell_type": "markdown",
   "id": "1d61caeb",
   "metadata": {},
   "source": [
    "# DATA EXPLORATION"
   ]
  },
  {
   "cell_type": "code",
   "execution_count": 2,
   "id": "23db8854",
   "metadata": {},
   "outputs": [
    {
     "name": "stdout",
     "output_type": "stream",
     "text": [
      "--2025-08-23 23:05:34--  https://raw.githubusercontent.com/vibhor98/German-Credit-Dataset/refs/heads/master/german_credit_data.csv\n",
      "raw.githubusercontent.com (raw.githubusercontent.com) 해석 중... 185.199.110.133, 185.199.108.133, 185.199.109.133, ...\n",
      "다음으로 연결 중: raw.githubusercontent.com (raw.githubusercontent.com)|185.199.110.133|:443... 연결했습니다.\n",
      "HTTP 요청을 보냈습니다. 응답 기다리는 중... 200 OK\n",
      "길이: 47400 (46K) [text/plain]\n",
      "저장 위치: `data/german_credit_data.csv'\n",
      "\n",
      "data/german_credit_ 100%[===================>]  46.29K  --.-KB/s    /  0.005s  \n",
      "\n",
      "2025-08-23 23:05:34 (9.72 MB/s) - `data/german_credit_data.csv' 저장함 [47400/47400]\n",
      "\n"
     ]
    }
   ],
   "source": [
    "# data download\n",
    "!wget https://raw.githubusercontent.com/vibhor98/German-Credit-Dataset/refs/heads/master/german_credit_data.csv -O data/german_credit_data.csv"
   ]
  },
  {
   "cell_type": "markdown",
   "id": "647c901e",
   "metadata": {},
   "source": [
    "## 7.1 Univariate Analysis"
   ]
  },
  {
   "cell_type": "code",
   "execution_count": 3,
   "id": "ebd33250",
   "metadata": {},
   "outputs": [
    {
     "name": "stderr",
     "output_type": "stream",
     "text": [
      "25/08/23 23:05:36 WARN Utils: Your hostname, gogeon-uui-noteubug.local resolves to a loopback address: 127.0.0.1; using 192.168.0.34 instead (on interface en0)\n",
      "25/08/23 23:05:36 WARN Utils: Set SPARK_LOCAL_IP if you need to bind to another address\n",
      "Setting default log level to \"WARN\".\n",
      "To adjust logging level use sc.setLogLevel(newLevel). For SparkR, use setLogLevel(newLevel).\n",
      "25/08/23 23:05:36 WARN NativeCodeLoader: Unable to load native-hadoop library for your platform... using builtin-java classes where applicable\n"
     ]
    }
   ],
   "source": [
    "from pyspark.sql import SparkSession\n",
    "\n",
    "spark = (\n",
    "    SparkSession.builder.appName(\"Python Spark Data Exploration\")\n",
    "    .config(\"spark.some.config.option\", \"some-value\")\n",
    "    .getOrCreate()\n",
    ")"
   ]
  },
  {
   "cell_type": "code",
   "execution_count": 4,
   "id": "2507362e",
   "metadata": {},
   "outputs": [
    {
     "data": {
      "text/plain": [
       "['_c0',\n",
       " 'Age',\n",
       " 'Sex',\n",
       " 'Job',\n",
       " 'Housing',\n",
       " 'Saving accounts',\n",
       " 'Checking account',\n",
       " 'Credit amount',\n",
       " 'Duration',\n",
       " 'Purpose']"
      ]
     },
     "execution_count": 4,
     "metadata": {},
     "output_type": "execute_result"
    }
   ],
   "source": [
    "df = (\n",
    "    spark.read.format(\"com.databricks.spark.csv\")\n",
    "    .options(header=\"true\", inferschema=\"true\")\n",
    "    .load(\"data/german_credit_data.csv\", header=True)\n",
    ")\n",
    "\n",
    "df.columns"
   ]
  },
  {
   "cell_type": "code",
   "execution_count": 5,
   "id": "6709c63f",
   "metadata": {},
   "outputs": [
    {
     "name": "stdout",
     "output_type": "stream",
     "text": [
      "+---+---+------+---+-------+---------------+----------------+-------------+--------+-------------------+\n",
      "|_c0|Age|   Sex|Job|Housing|Saving accounts|Checking account|Credit amount|Duration|            Purpose|\n",
      "+---+---+------+---+-------+---------------+----------------+-------------+--------+-------------------+\n",
      "|  0| 67|  male|  2|      3|             NA|          little|         1169|       6|           radio/TV|\n",
      "|  1| 22|female|  2|      3|         little|        moderate|         5951|      48|           radio/TV|\n",
      "|  2| 49|  male|  1|      3|         little|              NA|         2096|      12|          education|\n",
      "|  3| 45|  male|  2|      2|         little|          little|         7882|      42|furniture/equipment|\n",
      "|  4| 53|  male|  2|      2|         little|          little|         4870|      24|                car|\n",
      "+---+---+------+---+-------+---------------+----------------+-------------+--------+-------------------+\n",
      "only showing top 5 rows\n",
      "\n"
     ]
    },
    {
     "name": "stderr",
     "output_type": "stream",
     "text": [
      "25/08/23 23:05:39 WARN CSVHeaderChecker: CSV header does not conform to the schema.\n",
      " Header: , Age, Sex, Job, Housing, Saving accounts, Checking account, Credit amount, Duration, Purpose\n",
      " Schema: _c0, Age, Sex, Job, Housing, Saving accounts, Checking account, Credit amount, Duration, Purpose\n",
      "Expected: _c0 but found: \n",
      "CSV file: file:///Users/ko/Documents/Study/pyspark/spark-study/geonwooko/data/german_credit_data.csv\n"
     ]
    }
   ],
   "source": [
    "df.show(5)"
   ]
  },
  {
   "cell_type": "markdown",
   "id": "6e6659c6",
   "metadata": {},
   "source": [
    "### 7.1.1 Numerical Variables\n",
    "\n",
    "pandas와 비슷한 방법으로 EDA를 진행할 수 있다.\n"
   ]
  },
  {
   "cell_type": "code",
   "execution_count": 6,
   "id": "772cc34b",
   "metadata": {},
   "outputs": [
    {
     "name": "stdout",
     "output_type": "stream",
     "text": [
      "+-------+-----------------+------------------+\n",
      "|summary|    Credit amount|          Duration|\n",
      "+-------+-----------------+------------------+\n",
      "|  count|             1000|              1000|\n",
      "|   mean|         3271.258|            20.903|\n",
      "| stddev|2822.736875960441|12.058814452756371|\n",
      "|    min|              250|                 4|\n",
      "|    max|            18424|                72|\n",
      "+-------+-----------------+------------------+\n",
      "\n"
     ]
    }
   ],
   "source": [
    "num_cols = [\"Credit amount\", \"Duration\"]\n",
    "\n",
    "# base statistics\n",
    "df.select(num_cols).describe().show()\n",
    "\n",
    "# pyspark에서는 기본적으로 describe에서 quartile을 보여주지 않는다."
   ]
  },
  {
   "cell_type": "code",
   "execution_count": 7,
   "id": "6ec040f1",
   "metadata": {},
   "outputs": [
    {
     "name": "stdout",
     "output_type": "stream",
     "text": [
      "+-----------------------+-----------------------+\n",
      "|skewness(Credit amount)|kurtosis(Credit amount)|\n",
      "+-----------------------+-----------------------+\n",
      "|     1.9467020189419213|      4.265163377213482|\n",
      "+-----------------------+-----------------------+\n",
      "\n"
     ]
    }
   ],
   "source": [
    "from pyspark.sql.functions import col, skewness, kurtosis\n",
    "\n",
    "# 왜도와 첨도\n",
    "# 왜도의 경우 양수값을 가지면, 좌측으로 꼬리를 가진 분포임.\n",
    "# 첨도의 경우 값이 클 수록, 최빈값에 대한 density가 높음.\n",
    "df.select(skewness(col(\"Credit amount\")), kurtosis(col(\"Credit amount\"))).show()"
   ]
  },
  {
   "cell_type": "code",
   "execution_count": 8,
   "id": "4cd5c431",
   "metadata": {},
   "outputs": [
    {
     "name": "stderr",
     "output_type": "stream",
     "text": [
      "Matplotlib is building the font cache; this may take a moment.\n",
      "/var/folders/3y/bjq5fmmd3cld60g9nkdd_jkm0000gn/T/ipykernel_2240/162853253.py:39: UserWarning: set_ticklabels() should only be used with a fixed number of ticks, i.e. after set_ticks() or using a FixedLocator.\n",
      "  ax.set_xticklabels(labels)  # plt.text(-0.6, -1.4,'0')plt.xlabel(var)\n"
     ]
    },
    {
     "data": {
      "image/png": "[encoded data removed]",
      "text/plain": [
       "<Figure size 1000x800 with 1 Axes>"
      ]
     },
     "metadata": {},
     "output_type": "display_data"
    }
   ],
   "source": [
    "import matplotlib.pyplot as plt\n",
    "import numpy as np\n",
    "\n",
    "var = \"Credit amount\"\n",
    "# 시각화를 위해선 메모리에 데이터를 올려야 한다.\n",
    "# 메모리 최적화를 위해 요약된 데이터를 사용하거나, sample을 이용해 적정량의 데이터만 활용하는게 좋다.\n",
    "x = df.select(var).toPandas()[var]\n",
    "bins = [\n",
    "    0,\n",
    "    200,\n",
    "    400,\n",
    "    600,\n",
    "    700,\n",
    "    800,\n",
    "    900,\n",
    "    1000,\n",
    "    2000,\n",
    "    3000,\n",
    "    4000,\n",
    "    5000,\n",
    "    6000,\n",
    "    10000,\n",
    "    25000,\n",
    "]\n",
    "hist, bin_edges = np.histogram(\n",
    "    x, bins, weights=np.zeros_like(x) + 100.0 / x.size\n",
    ")  # make the histogram\n",
    "fig = plt.figure(figsize=(10, 8))\n",
    "ax = fig.add_subplot(\n",
    "    1, 1, 1\n",
    ")  # Plot the histogram heights against integers on the x axis\n",
    "\n",
    "ax.bar(\n",
    "    range(len(hist)), hist, width=1, alpha=0.8, ec=\"black\", color=\"gold\"\n",
    ")  # # Set the ticks to the middle of the barsax.set_xticks([0.5+i for i,j in enumerate(hist)])# Set the xticklabels to a string that tells us what the bin edges were\n",
    "# labels =['{}k'.format(int(bins[i+1]/1000)) for i,j in enumerate(hist)]\n",
    "labels = [\"{}\".format(bins[i + 1]) for i, j in enumerate(hist)]\n",
    "labels.insert(0, \"0\")\n",
    "ax.set_xticklabels(labels)  # plt.text(-0.6, -1.4,'0')plt.xlabel(var)\n",
    "plt.ylabel(\"percentage\")\n",
    "plt.show()"
   ]
  },
  {
   "cell_type": "markdown",
   "id": "5dbbe0f8",
   "metadata": {},
   "source": [
    "### 7.1.2 Categorical Variables"
   ]
  },
  {
   "cell_type": "markdown",
   "id": "8abf19d3",
   "metadata": {},
   "source": [
    "그룹별 빈도수 계산하기"
   ]
  },
  {
   "cell_type": "code",
   "execution_count": 9,
   "id": "da2050ee",
   "metadata": {},
   "outputs": [
    {
     "name": "stderr",
     "output_type": "stream",
     "text": [
      "25/08/23 23:06:01 WARN WindowExec: No Partition Defined for Window operation! Moving all data to a single partition, this can cause serious performance degradation.\n",
      "25/08/23 23:06:01 WARN WindowExec: No Partition Defined for Window operation! Moving all data to a single partition, this can cause serious performance degradation.\n",
      "25/08/23 23:06:01 WARN WindowExec: No Partition Defined for Window operation! Moving all data to a single partition, this can cause serious performance degradation.\n",
      "25/08/23 23:06:01 WARN WindowExec: No Partition Defined for Window operation! Moving all data to a single partition, this can cause serious performance degradation.\n",
      "25/08/23 23:06:01 WARN WindowExec: No Partition Defined for Window operation! Moving all data to a single partition, this can cause serious performance degradation.\n"
     ]
    },
    {
     "name": "stdout",
     "output_type": "stream",
     "text": [
      "+---------+-----+------------------+------------------+----+-----+-------+\n",
      "|age_class|count|              mean|            stddev| min|  max|Percent|\n",
      "+---------+-----+------------------+------------------+----+-----+-------+\n",
      "|        1|    2|            1481.5| 704.9854608429879| 983| 1980|  0.002|\n",
      "|        6|   44| 3169.568181818182| 3534.153156008784| 571|14896|  0.044|\n",
      "|        3|  330|3404.2606060606063|2805.3544881562616| 368|18424|   0.33|\n",
      "|        5|   74|3248.3783783783783|3004.6199253756636| 338|15945|  0.074|\n",
      "|        4|  174|3404.0057471264367|2870.9334577871928| 250|15857|  0.174|\n",
      "|        7|    7| 4242.714285714285| 2359.944046955755|1299| 7308|  0.007|\n",
      "|        2|  369|  3097.70189701897| 2699.228403842572| 276|15672|  0.369|\n",
      "+---------+-----+------------------+------------------+----+-----+-------+\n",
      "\n"
     ]
    },
    {
     "name": "stderr",
     "output_type": "stream",
     "text": [
      "25/08/23 23:06:01 WARN WindowExec: No Partition Defined for Window operation! Moving all data to a single partition, this can cause serious performance degradation.\n",
      "25/08/23 23:06:01 WARN WindowExec: No Partition Defined for Window operation! Moving all data to a single partition, this can cause serious performance degradation.\n"
     ]
    }
   ],
   "source": [
    "from pyspark.sql import functions as F\n",
    "from pyspark.sql.functions import rank, sum, col\n",
    "from pyspark.sql import Window\n",
    "\n",
    "\n",
    "# unboundedPreceding: 현재 행 이전의 모든 행을 포함\n",
    "# unboundedFollowing: 현재 행 이후의 모든 행을 포함\n",
    "window = Window.rowsBetween(Window.unboundedPreceding, Window.unboundedFollowing)\n",
    "\n",
    "\n",
    "tab = (\n",
    "    df.select([\"Age\", \"Credit amount\"])\n",
    "    .withColumn(\"age_class\", (col(\"Age\") / 10).cast(\"int\"))\n",
    "    .groupBy(\"age_class\")\n",
    "    .agg(\n",
    "        F.count(\"Credit amount\").alias(\"count\"),\n",
    "        F.mean(\"Credit amount\").alias(\"mean\"),\n",
    "        F.stddev(\"Credit amount\").alias(\"stddev\"),\n",
    "        F.min(\"Credit amount\").alias(\"min\"),\n",
    "        F.max(\"Credit amount\").alias(\"max\"),\n",
    "    )\n",
    "    .withColumn(\n",
    "        \"total\", sum(col(\"count\")).over(window)\n",
    "    )  # 전체 row(count)에 대한 sum을 한 후\n",
    "    .withColumn(\"Percent\", col(\"count\") / col(\"total\"))  # 각 그룹의 비율을 계산\n",
    "    .drop(col(\"total\"))\n",
    ")\n",
    "\n",
    "tab.show()"
   ]
  },
  {
   "cell_type": "markdown",
   "id": "e9637ea8",
   "metadata": {},
   "source": [
    "Draw pie plot"
   ]
  },
  {
   "cell_type": "code",
   "execution_count": 10,
   "id": "918f0300",
   "metadata": {},
   "outputs": [
    {
     "name": "stderr",
     "output_type": "stream",
     "text": [
      "25/08/23 23:06:01 WARN WindowExec: No Partition Defined for Window operation! Moving all data to a single partition, this can cause serious performance degradation.\n",
      "25/08/23 23:06:01 WARN WindowExec: No Partition Defined for Window operation! Moving all data to a single partition, this can cause serious performance degradation.\n",
      "25/08/23 23:06:01 WARN WindowExec: No Partition Defined for Window operation! Moving all data to a single partition, this can cause serious performance degradation.\n",
      "25/08/23 23:06:01 WARN WindowExec: No Partition Defined for Window operation! Moving all data to a single partition, this can cause serious performance degradation.\n",
      "25/08/23 23:06:01 WARN WindowExec: No Partition Defined for Window operation! Moving all data to a single partition, this can cause serious performance degradation.\n",
      "25/08/23 23:06:01 WARN WindowExec: No Partition Defined for Window operation! Moving all data to a single partition, this can cause serious performance degradation.\n",
      "25/08/23 23:06:01 WARN WindowExec: No Partition Defined for Window operation! Moving all data to a single partition, this can cause serious performance degradation.\n"
     ]
    },
    {
     "data": {
      "image/png": "[encoded data removed]",
      "text/plain": [
       "<Figure size 1000x800 with 1 Axes>"
      ]
     },
     "metadata": {},
     "output_type": "display_data"
    }
   ],
   "source": [
    "import matplotlib.pyplot as plt\n",
    "\n",
    "# Data to plot\n",
    "labels = tab.select(\"age_class\").toPandas()[\"age_class\"]\n",
    "sizes = tab.select(\"Percent\").toPandas()[\"Percent\"]\n",
    "colors = [\"gold\", \"yellowgreen\", \"lightcoral\", \"blue\", \"lightskyblue\", \"green\", \"red\"]\n",
    "\n",
    "plt.figure(figsize=(10, 8))\n",
    "plt.pie(\n",
    "    sizes,\n",
    "    labels=labels,\n",
    "    colors=colors,\n",
    "    autopct=\"%1.1f%%\",\n",
    "    shadow=True,\n",
    "    startangle=140,\n",
    ")\n",
    "plt.axis(\"equal\")\n",
    "\n",
    "plt.show()"
   ]
  },
  {
   "cell_type": "markdown",
   "id": "7025ae60",
   "metadata": {},
   "source": [
    "## 7.2 Multivariate Analysis"
   ]
  },
  {
   "cell_type": "markdown",
   "id": "2c4115ef",
   "metadata": {},
   "source": [
    "### 7.2.1 Numerical V.S. Numerical"
   ]
  },
  {
   "cell_type": "code",
   "execution_count": 11,
   "id": "671511fd",
   "metadata": {},
   "outputs": [
    {
     "name": "stderr",
     "output_type": "stream",
     "text": [
      "25/08/23 23:06:07 WARN InstanceBuilder: Failed to load implementation from:dev.ludovic.netlib.blas.JNIBLAS\n",
      "25/08/23 23:06:07 WARN InstanceBuilder: Failed to load implementation from:dev.ludovic.netlib.blas.VectorBLAS\n",
      "                                                                                \r"
     ]
    },
    {
     "ename": "ValueError",
     "evalue": "Must pass 2-d input. shape=()",
     "output_type": "error",
     "traceback": [
      "\u001b[0;31m---------------------------------------------------------------------------\u001b[0m",
      "\u001b[0;31mValueError\u001b[0m                                Traceback (most recent call last)",
      "Cell \u001b[0;32mIn[11], line 25\u001b[0m\n\u001b[1;32m     22\u001b[0m \u001b[38;5;28;01mimport\u001b[39;00m\u001b[38;5;250m \u001b[39m\u001b[38;5;21;01mmatplotlib\u001b[39;00m\u001b[38;5;21;01m.\u001b[39;00m\u001b[38;5;21;01mpyplot\u001b[39;00m\u001b[38;5;250m \u001b[39m\u001b[38;5;28;01mas\u001b[39;00m\u001b[38;5;250m \u001b[39m\u001b[38;5;21;01mplt\u001b[39;00m\n\u001b[1;32m     24\u001b[0m plt\u001b[38;5;241m.\u001b[39mfigure(figsize\u001b[38;5;241m=\u001b[39m(\u001b[38;5;241m10\u001b[39m, \u001b[38;5;241m8\u001b[39m))\n\u001b[0;32m---> 25\u001b[0m \u001b[43msns\u001b[49m\u001b[38;5;241;43m.\u001b[39;49m\u001b[43mheatmap\u001b[49m\u001b[43m(\u001b[49m\u001b[43mcorr_mat\u001b[49m\u001b[43m,\u001b[49m\u001b[43m \u001b[49m\u001b[43mannot\u001b[49m\u001b[38;5;241;43m=\u001b[39;49m\u001b[38;5;28;43;01mTrue\u001b[39;49;00m\u001b[43m,\u001b[49m\u001b[43m \u001b[49m\u001b[43mfmt\u001b[49m\u001b[38;5;241;43m=\u001b[39;49m\u001b[38;5;124;43m\"\u001b[39;49m\u001b[38;5;124;43m.2f\u001b[39;49m\u001b[38;5;124;43m\"\u001b[39;49m\u001b[43m,\u001b[49m\u001b[43m \u001b[49m\u001b[43mcmap\u001b[49m\u001b[38;5;241;43m=\u001b[39;49m\u001b[38;5;124;43m\"\u001b[39;49m\u001b[38;5;124;43mcoolwarm\u001b[39;49m\u001b[38;5;124;43m\"\u001b[39;49m\u001b[43m,\u001b[49m\u001b[43m \u001b[49m\u001b[43mvmin\u001b[49m\u001b[38;5;241;43m=\u001b[39;49m\u001b[38;5;241;43m-\u001b[39;49m\u001b[38;5;241;43m1\u001b[39;49m\u001b[43m,\u001b[49m\u001b[43m \u001b[49m\u001b[43mvmax\u001b[49m\u001b[38;5;241;43m=\u001b[39;49m\u001b[38;5;241;43m1\u001b[39;49m\u001b[43m)\u001b[49m\n\u001b[1;32m     26\u001b[0m plt\u001b[38;5;241m.\u001b[39mshow()\n",
      "File \u001b[0;32m~/Documents/Study/pyspark/spark-study/.venv/lib/python3.9/site-packages/seaborn/matrix.py:446\u001b[0m, in \u001b[0;36mheatmap\u001b[0;34m(data, vmin, vmax, cmap, center, robust, annot, fmt, annot_kws, linewidths, linecolor, cbar, cbar_kws, cbar_ax, square, xticklabels, yticklabels, mask, ax, **kwargs)\u001b[0m\n\u001b[1;32m    365\u001b[0m \u001b[38;5;250m\u001b[39m\u001b[38;5;124;03m\"\"\"Plot rectangular data as a color-encoded matrix.\u001b[39;00m\n\u001b[1;32m    366\u001b[0m \n\u001b[1;32m    367\u001b[0m \u001b[38;5;124;03mThis is an Axes-level function and will draw the heatmap into the\u001b[39;00m\n\u001b[0;32m   (...)\u001b[0m\n\u001b[1;32m    443\u001b[0m \n\u001b[1;32m    444\u001b[0m \u001b[38;5;124;03m\"\"\"\u001b[39;00m\n\u001b[1;32m    445\u001b[0m \u001b[38;5;66;03m# Initialize the plotter object\u001b[39;00m\n\u001b[0;32m--> 446\u001b[0m plotter \u001b[38;5;241m=\u001b[39m \u001b[43m_HeatMapper\u001b[49m\u001b[43m(\u001b[49m\u001b[43mdata\u001b[49m\u001b[43m,\u001b[49m\u001b[43m \u001b[49m\u001b[43mvmin\u001b[49m\u001b[43m,\u001b[49m\u001b[43m \u001b[49m\u001b[43mvmax\u001b[49m\u001b[43m,\u001b[49m\u001b[43m \u001b[49m\u001b[43mcmap\u001b[49m\u001b[43m,\u001b[49m\u001b[43m \u001b[49m\u001b[43mcenter\u001b[49m\u001b[43m,\u001b[49m\u001b[43m \u001b[49m\u001b[43mrobust\u001b[49m\u001b[43m,\u001b[49m\u001b[43m \u001b[49m\u001b[43mannot\u001b[49m\u001b[43m,\u001b[49m\u001b[43m \u001b[49m\u001b[43mfmt\u001b[49m\u001b[43m,\u001b[49m\n\u001b[1;32m    447\u001b[0m \u001b[43m                      \u001b[49m\u001b[43mannot_kws\u001b[49m\u001b[43m,\u001b[49m\u001b[43m \u001b[49m\u001b[43mcbar\u001b[49m\u001b[43m,\u001b[49m\u001b[43m \u001b[49m\u001b[43mcbar_kws\u001b[49m\u001b[43m,\u001b[49m\u001b[43m \u001b[49m\u001b[43mxticklabels\u001b[49m\u001b[43m,\u001b[49m\n\u001b[1;32m    448\u001b[0m \u001b[43m                      \u001b[49m\u001b[43myticklabels\u001b[49m\u001b[43m,\u001b[49m\u001b[43m \u001b[49m\u001b[43mmask\u001b[49m\u001b[43m)\u001b[49m\n\u001b[1;32m    450\u001b[0m \u001b[38;5;66;03m# Add the pcolormesh kwargs here\u001b[39;00m\n\u001b[1;32m    451\u001b[0m kwargs[\u001b[38;5;124m\"\u001b[39m\u001b[38;5;124mlinewidths\u001b[39m\u001b[38;5;124m\"\u001b[39m] \u001b[38;5;241m=\u001b[39m linewidths\n",
      "File \u001b[0;32m~/Documents/Study/pyspark/spark-study/.venv/lib/python3.9/site-packages/seaborn/matrix.py:110\u001b[0m, in \u001b[0;36m_HeatMapper.__init__\u001b[0;34m(self, data, vmin, vmax, cmap, center, robust, annot, fmt, annot_kws, cbar, cbar_kws, xticklabels, yticklabels, mask)\u001b[0m\n\u001b[1;32m    108\u001b[0m \u001b[38;5;28;01melse\u001b[39;00m:\n\u001b[1;32m    109\u001b[0m     plot_data \u001b[38;5;241m=\u001b[39m np\u001b[38;5;241m.\u001b[39masarray(data)\n\u001b[0;32m--> 110\u001b[0m     data \u001b[38;5;241m=\u001b[39m \u001b[43mpd\u001b[49m\u001b[38;5;241;43m.\u001b[39;49m\u001b[43mDataFrame\u001b[49m\u001b[43m(\u001b[49m\u001b[43mplot_data\u001b[49m\u001b[43m)\u001b[49m\n\u001b[1;32m    112\u001b[0m \u001b[38;5;66;03m# Validate the mask and convert to DataFrame\u001b[39;00m\n\u001b[1;32m    113\u001b[0m mask \u001b[38;5;241m=\u001b[39m _matrix_mask(data, mask)\n",
      "File \u001b[0;32m~/Documents/Study/pyspark/spark-study/.venv/lib/python3.9/site-packages/pandas/core/frame.py:827\u001b[0m, in \u001b[0;36mDataFrame.__init__\u001b[0;34m(self, data, index, columns, dtype, copy)\u001b[0m\n\u001b[1;32m    816\u001b[0m         mgr \u001b[38;5;241m=\u001b[39m dict_to_mgr(\n\u001b[1;32m    817\u001b[0m             \u001b[38;5;66;03m# error: Item \"ndarray\" of \"Union[ndarray, Series, Index]\" has no\u001b[39;00m\n\u001b[1;32m    818\u001b[0m             \u001b[38;5;66;03m# attribute \"name\"\u001b[39;00m\n\u001b[0;32m   (...)\u001b[0m\n\u001b[1;32m    824\u001b[0m             copy\u001b[38;5;241m=\u001b[39m_copy,\n\u001b[1;32m    825\u001b[0m         )\n\u001b[1;32m    826\u001b[0m     \u001b[38;5;28;01melse\u001b[39;00m:\n\u001b[0;32m--> 827\u001b[0m         mgr \u001b[38;5;241m=\u001b[39m \u001b[43mndarray_to_mgr\u001b[49m\u001b[43m(\u001b[49m\n\u001b[1;32m    828\u001b[0m \u001b[43m            \u001b[49m\u001b[43mdata\u001b[49m\u001b[43m,\u001b[49m\n\u001b[1;32m    829\u001b[0m \u001b[43m            \u001b[49m\u001b[43mindex\u001b[49m\u001b[43m,\u001b[49m\n\u001b[1;32m    830\u001b[0m \u001b[43m            \u001b[49m\u001b[43mcolumns\u001b[49m\u001b[43m,\u001b[49m\n\u001b[1;32m    831\u001b[0m \u001b[43m            \u001b[49m\u001b[43mdtype\u001b[49m\u001b[38;5;241;43m=\u001b[39;49m\u001b[43mdtype\u001b[49m\u001b[43m,\u001b[49m\n\u001b[1;32m    832\u001b[0m \u001b[43m            \u001b[49m\u001b[43mcopy\u001b[49m\u001b[38;5;241;43m=\u001b[39;49m\u001b[43mcopy\u001b[49m\u001b[43m,\u001b[49m\n\u001b[1;32m    833\u001b[0m \u001b[43m            \u001b[49m\u001b[43mtyp\u001b[49m\u001b[38;5;241;43m=\u001b[39;49m\u001b[43mmanager\u001b[49m\u001b[43m,\u001b[49m\n\u001b[1;32m    834\u001b[0m \u001b[43m        \u001b[49m\u001b[43m)\u001b[49m\n\u001b[1;32m    836\u001b[0m \u001b[38;5;66;03m# For data is list-like, or Iterable (will consume into list)\u001b[39;00m\n\u001b[1;32m    837\u001b[0m \u001b[38;5;28;01melif\u001b[39;00m is_list_like(data):\n",
      "File \u001b[0;32m~/Documents/Study/pyspark/spark-study/.venv/lib/python3.9/site-packages/pandas/core/internals/construction.py:314\u001b[0m, in \u001b[0;36mndarray_to_mgr\u001b[0;34m(values, index, columns, dtype, copy, typ)\u001b[0m\n\u001b[1;32m    312\u001b[0m     \u001b[38;5;28;01melse\u001b[39;00m:\n\u001b[1;32m    313\u001b[0m         values \u001b[38;5;241m=\u001b[39m np\u001b[38;5;241m.\u001b[39masarray(values)\n\u001b[0;32m--> 314\u001b[0m     values \u001b[38;5;241m=\u001b[39m \u001b[43m_ensure_2d\u001b[49m\u001b[43m(\u001b[49m\u001b[43mvalues\u001b[49m\u001b[43m)\u001b[49m\n\u001b[1;32m    316\u001b[0m \u001b[38;5;28;01melse\u001b[39;00m:\n\u001b[1;32m    317\u001b[0m     \u001b[38;5;66;03m# by definition an array here\u001b[39;00m\n\u001b[1;32m    318\u001b[0m     \u001b[38;5;66;03m# the dtypes will be coerced to a single dtype\u001b[39;00m\n\u001b[1;32m    319\u001b[0m     values \u001b[38;5;241m=\u001b[39m _prep_ndarraylike(values, copy\u001b[38;5;241m=\u001b[39mcopy_on_sanitize)\n",
      "File \u001b[0;32m~/Documents/Study/pyspark/spark-study/.venv/lib/python3.9/site-packages/pandas/core/internals/construction.py:592\u001b[0m, in \u001b[0;36m_ensure_2d\u001b[0;34m(values)\u001b[0m\n\u001b[1;32m    590\u001b[0m     values \u001b[38;5;241m=\u001b[39m values\u001b[38;5;241m.\u001b[39mreshape((values\u001b[38;5;241m.\u001b[39mshape[\u001b[38;5;241m0\u001b[39m], \u001b[38;5;241m1\u001b[39m))\n\u001b[1;32m    591\u001b[0m \u001b[38;5;28;01melif\u001b[39;00m values\u001b[38;5;241m.\u001b[39mndim \u001b[38;5;241m!=\u001b[39m \u001b[38;5;241m2\u001b[39m:\n\u001b[0;32m--> 592\u001b[0m     \u001b[38;5;28;01mraise\u001b[39;00m \u001b[38;5;167;01mValueError\u001b[39;00m(\u001b[38;5;124mf\u001b[39m\u001b[38;5;124m\"\u001b[39m\u001b[38;5;124mMust pass 2-d input. shape=\u001b[39m\u001b[38;5;132;01m{\u001b[39;00mvalues\u001b[38;5;241m.\u001b[39mshape\u001b[38;5;132;01m}\u001b[39;00m\u001b[38;5;124m\"\u001b[39m)\n\u001b[1;32m    593\u001b[0m \u001b[38;5;28;01mreturn\u001b[39;00m values\n",
      "\u001b[0;31mValueError\u001b[0m: Must pass 2-d input. shape=()"
     ]
    },
    {
     "data": {
      "text/plain": [
       "<Figure size 1000x800 with 0 Axes>"
      ]
     },
     "metadata": {},
     "output_type": "display_data"
    }
   ],
   "source": [
    "# correlation matrix\n",
    "# from pyspark.mllib.stat import Statistics\n",
    "from pyspark.ml.stat import Correlation\n",
    "from pyspark.ml.feature import VectorAssembler\n",
    "import pandas as pd\n",
    "\n",
    "corr_data = df.select(num_cols)\n",
    "\n",
    "col_names = corr_data.columns\n",
    "# mllip은 구버전의 rdd만 지원하므로, 데이터프레임을 rdd로 변환해야함.\n",
    "# RDD의 각 Row 객체를 벡터 형태로 변환하기 위해 map 사용\n",
    "# Statistics.corr()는 RDD[Vector] 형태의 데이터를 요구하므로 모든 값을 슬라이싱 하여 벡터로 변환\n",
    "features = VectorAssembler(inputCols=col_names, outputCol=\"features\").transform(\n",
    "    corr_data\n",
    ")\n",
    "\n",
    "# 상관관게 계산\n",
    "corr_mat = Correlation.corr(features, \"features\", method=\"pearson\").collect()[0][0]\n",
    "\n",
    "# 시각화\n",
    "import seaborn as sns\n",
    "import matplotlib.pyplot as plt\n",
    "\n",
    "plt.figure(figsize=(10, 8))\n",
    "sns.heatmap(corr_mat, annot=True, fmt=\".2f\", cmap=\"coolwarm\", vmin=-1, vmax=1)\n",
    "plt.show()"
   ]
  },
  {
   "cell_type": "code",
   "execution_count": null,
   "id": "bde8b265",
   "metadata": {},
   "outputs": [],
   "source": [
    "corr_mat.toArray()"
   ]
  }
 ],
 "metadata": {
  "kernelspec": {
   "display_name": ".venv",
   "language": "python",
   "name": "python3"
  },
  "language_info": {
   "codemirror_mode": {
    "name": "ipython",
    "version": 3
   },
   "file_extension": ".py",
   "mimetype": "text/x-python",
   "name": "python",
   "nbconvert_exporter": "python",
   "pygments_lexer": "ipython3",
   "version": "3.9.21"
  }
 },
 "nbformat": 4,
 "nbformat_minor": 5
}
