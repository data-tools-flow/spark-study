{
 "cells": [
  {
   "cell_type": "markdown",
   "id": "1d61caeb",
   "metadata": {},
   "source": [
    "# DATA EXPLORATION"
   ]
  },
  {
   "cell_type": "code",
   "execution_count": 3,
   "id": "23db8854",
   "metadata": {},
   "outputs": [
    {
     "name": "stdout",
     "output_type": "stream",
     "text": [
      "/Users/ko/Documents/Study/pyspark/spark-study/geonwooko\n"
     ]
    },
    {
     "name": "stderr",
     "output_type": "stream",
     "text": [
      "/Users/ko/Documents/Study/pyspark/spark-study/.venv/lib/python3.9/site-packages/IPython/core/magics/osm.py:417: UserWarning: using dhist requires you to install the `pickleshare` library.\n",
      "  self.shell.db['dhist'] = compress_dhist(dhist)[-100:]\n"
     ]
    }
   ],
   "source": [
    "# data download\n",
    "%cd geonwooko\n",
    "# !wget https://raw.githubusercontent.com/vibhor98/German-Credit-Dataset/refs/heads/master/german_credit_data.csv -O data/german_credit_data.csv"
   ]
  },
  {
   "cell_type": "markdown",
   "id": "647c901e",
   "metadata": {},
   "source": [
    "## 7.1 Univariate Analysis"
   ]
  },
  {
   "cell_type": "code",
   "execution_count": 6,
   "id": "ebd33250",
   "metadata": {},
   "outputs": [],
   "source": [
    "from pyspark.sql import SparkSession\n",
    "\n",
    "spark = (\n",
    "    SparkSession.builder.appName(\"Python Spark Data Exploration\")\n",
    "    .config(\"spark.some.config.option\", \"some-value\")\n",
    "    .getOrCreate()\n",
    ")"
   ]
  },
  {
   "cell_type": "code",
   "execution_count": 9,
   "id": "2507362e",
   "metadata": {},
   "outputs": [
    {
     "data": {
      "text/plain": [
       "['_c0',\n",
       " 'Age',\n",
       " 'Sex',\n",
       " 'Job',\n",
       " 'Housing',\n",
       " 'Saving accounts',\n",
       " 'Checking account',\n",
       " 'Credit amount',\n",
       " 'Duration',\n",
       " 'Purpose']"
      ]
     },
     "execution_count": 9,
     "metadata": {},
     "output_type": "execute_result"
    }
   ],
   "source": [
    "df = (\n",
    "    spark.read.format(\"com.databricks.spark.csv\")\n",
    "    .options(header=\"true\", inferschema=\"true\")\n",
    "    .load(\"geonwooko/data/german_credit_data.csv\", header=True)\n",
    ")\n",
    "\n",
    "df.columns"
   ]
  },
  {
   "cell_type": "code",
   "execution_count": 10,
   "id": "6709c63f",
   "metadata": {},
   "outputs": [
    {
     "name": "stdout",
     "output_type": "stream",
     "text": [
      "+---+---+------+---+-------+---------------+----------------+-------------+--------+-------------------+\n",
      "|_c0|Age|   Sex|Job|Housing|Saving accounts|Checking account|Credit amount|Duration|            Purpose|\n",
      "+---+---+------+---+-------+---------------+----------------+-------------+--------+-------------------+\n",
      "|  0| 67|  male|  2|      3|             NA|          little|         1169|       6|           radio/TV|\n",
      "|  1| 22|female|  2|      3|         little|        moderate|         5951|      48|           radio/TV|\n",
      "|  2| 49|  male|  1|      3|         little|              NA|         2096|      12|          education|\n",
      "|  3| 45|  male|  2|      2|         little|          little|         7882|      42|furniture/equipment|\n",
      "|  4| 53|  male|  2|      2|         little|          little|         4870|      24|                car|\n",
      "+---+---+------+---+-------+---------------+----------------+-------------+--------+-------------------+\n",
      "only showing top 5 rows\n",
      "\n"
     ]
    },
    {
     "name": "stderr",
     "output_type": "stream",
     "text": [
      "25/08/31 10:17:05 WARN CSVHeaderChecker: CSV header does not conform to the schema.\n",
      " Header: , Age, Sex, Job, Housing, Saving accounts, Checking account, Credit amount, Duration, Purpose\n",
      " Schema: _c0, Age, Sex, Job, Housing, Saving accounts, Checking account, Credit amount, Duration, Purpose\n",
      "Expected: _c0 but found: \n",
      "CSV file: file:///Users/ko/Documents/Study/pyspark/spark-study/geonwooko/data/german_credit_data.csv\n"
     ]
    }
   ],
   "source": [
    "df.show(5)"
   ]
  },
  {
   "cell_type": "markdown",
   "id": "6e6659c6",
   "metadata": {},
   "source": [
    "### 7.1.1 Numerical Variables\n",
    "\n",
    "pandas와 비슷한 방법으로 EDA를 진행할 수 있다.\n"
   ]
  },
  {
   "cell_type": "code",
   "execution_count": 6,
   "id": "772cc34b",
   "metadata": {},
   "outputs": [
    {
     "name": "stdout",
     "output_type": "stream",
     "text": [
      "+-------+-----------------+------------------+\n",
      "|summary|    Credit amount|          Duration|\n",
      "+-------+-----------------+------------------+\n",
      "|  count|             1000|              1000|\n",
      "|   mean|         3271.258|            20.903|\n",
      "| stddev|2822.736875960441|12.058814452756371|\n",
      "|    min|              250|                 4|\n",
      "|    max|            18424|                72|\n",
      "+-------+-----------------+------------------+\n",
      "\n"
     ]
    }
   ],
   "source": [
    "num_cols = [\"Credit amount\", \"Duration\"]\n",
    "\n",
    "# base statistics\n",
    "df.select(num_cols).describe().show()\n",
    "\n",
    "# pyspark에서는 기본적으로 describe에서 quartile을 보여주지 않는다."
   ]
  },
  {
   "cell_type": "code",
   "execution_count": 7,
   "id": "6ec040f1",
   "metadata": {},
   "outputs": [
    {
     "name": "stdout",
     "output_type": "stream",
     "text": [
      "+-----------------------+-----------------------+\n",
      "|skewness(Credit amount)|kurtosis(Credit amount)|\n",
      "+-----------------------+-----------------------+\n",
      "|     1.9467020189419213|      4.265163377213482|\n",
      "+-----------------------+-----------------------+\n",
      "\n"
     ]
    }
   ],
   "source": [
    "from pyspark.sql.functions import col, skewness, kurtosis\n",
    "\n",
    "# 왜도와 첨도\n",
    "# 왜도의 경우 양수값을 가지면, 좌측으로 꼬리를 가진 분포임.\n",
    "# 첨도의 경우 값이 클 수록, 최빈값에 대한 density가 높음.\n",
    "df.select(skewness(col(\"Credit amount\")), kurtosis(col(\"Credit amount\"))).show()"
   ]
  },
  {
   "cell_type": "code",
   "execution_count": 8,
   "id": "4cd5c431",
   "metadata": {},
   "outputs": [
    {
     "name": "stderr",
     "output_type": "stream",
     "text": [
      "Matplotlib is building the font cache; this may take a moment.\n",
      "/var/folders/3y/bjq5fmmd3cld60g9nkdd_jkm0000gn/T/ipykernel_2240/162853253.py:39: UserWarning: set_ticklabels() should only be used with a fixed number of ticks, i.e. after set_ticks() or using a FixedLocator.\n",
      "  ax.set_xticklabels(labels)  # plt.text(-0.6, -1.4,'0')plt.xlabel(var)\n"
     ]
    },
    {
     "data": {
      "image/png": "[encoded data removed]",
      "text/plain": [
       "<Figure size 1000x800 with 1 Axes>"
      ]
     },
     "metadata": {},
     "output_type": "display_data"
    }
   ],
   "source": [
    "import matplotlib.pyplot as plt\n",
    "import numpy as np\n",
    "\n",
    "var = \"Credit amount\"\n",
    "# 시각화를 위해선 메모리에 데이터를 올려야 한다.\n",
    "# 메모리 최적화를 위해 요약된 데이터를 사용하거나, sample을 이용해 적정량의 데이터만 활용하는게 좋다.\n",
    "x = df.select(var).toPandas()[var]\n",
    "bins = [\n",
    "    0,\n",
    "    200,\n",
    "    400,\n",
    "    600,\n",
    "    700,\n",
    "    800,\n",
    "    900,\n",
    "    1000,\n",
    "    2000,\n",
    "    3000,\n",
    "    4000,\n",
    "    5000,\n",
    "    6000,\n",
    "    10000,\n",
    "    25000,\n",
    "]\n",
    "hist, bin_edges = np.histogram(\n",
    "    x, bins, weights=np.zeros_like(x) + 100.0 / x.size\n",
    ")  # make the histogram\n",
    "fig = plt.figure(figsize=(10, 8))\n",
    "ax = fig.add_subplot(\n",
    "    1, 1, 1\n",
    ")  # Plot the histogram heights against integers on the x axis\n",
    "\n",
    "ax.bar(\n",
    "    range(len(hist)), hist, width=1, alpha=0.8, ec=\"black\", color=\"gold\"\n",
    ")  # # Set the ticks to the middle of the barsax.set_xticks([0.5+i for i,j in enumerate(hist)])# Set the xticklabels to a string that tells us what the bin edges were\n",
    "# labels =['{}k'.format(int(bins[i+1]/1000)) for i,j in enumerate(hist)]\n",
    "labels = [\"{}\".format(bins[i + 1]) for i, j in enumerate(hist)]\n",
    "labels.insert(0, \"0\")\n",
    "ax.set_xticklabels(labels)  # plt.text(-0.6, -1.4,'0')plt.xlabel(var)\n",
    "plt.ylabel(\"percentage\")\n",
    "plt.show()"
   ]
  },
  {
   "cell_type": "markdown",
   "id": "5dbbe0f8",
   "metadata": {},
   "source": [
    "### 7.1.2 Categorical Variables"
   ]
  },
  {
   "cell_type": "markdown",
   "id": "8abf19d3",
   "metadata": {},
   "source": [
    "그룹별 빈도수 계산하기"
   ]
  },
  {
   "cell_type": "code",
   "execution_count": 9,
   "id": "da2050ee",
   "metadata": {},
   "outputs": [
    {
     "name": "stderr",
     "output_type": "stream",
     "text": [
      "25/08/23 23:06:01 WARN WindowExec: No Partition Defined for Window operation! Moving all data to a single partition, this can cause serious performance degradation.\n",
      "25/08/23 23:06:01 WARN WindowExec: No Partition Defined for Window operation! Moving all data to a single partition, this can cause serious performance degradation.\n",
      "25/08/23 23:06:01 WARN WindowExec: No Partition Defined for Window operation! Moving all data to a single partition, this can cause serious performance degradation.\n",
      "25/08/23 23:06:01 WARN WindowExec: No Partition Defined for Window operation! Moving all data to a single partition, this can cause serious performance degradation.\n",
      "25/08/23 23:06:01 WARN WindowExec: No Partition Defined for Window operation! Moving all data to a single partition, this can cause serious performance degradation.\n"
     ]
    },
    {
     "name": "stdout",
     "output_type": "stream",
     "text": [
      "+---------+-----+------------------+------------------+----+-----+-------+\n",
      "|age_class|count|              mean|            stddev| min|  max|Percent|\n",
      "+---------+-----+------------------+------------------+----+-----+-------+\n",
      "|        1|    2|            1481.5| 704.9854608429879| 983| 1980|  0.002|\n",
      "|        6|   44| 3169.568181818182| 3534.153156008784| 571|14896|  0.044|\n",
      "|        3|  330|3404.2606060606063|2805.3544881562616| 368|18424|   0.33|\n",
      "|        5|   74|3248.3783783783783|3004.6199253756636| 338|15945|  0.074|\n",
      "|        4|  174|3404.0057471264367|2870.9334577871928| 250|15857|  0.174|\n",
      "|        7|    7| 4242.714285714285| 2359.944046955755|1299| 7308|  0.007|\n",
      "|        2|  369|  3097.70189701897| 2699.228403842572| 276|15672|  0.369|\n",
      "+---------+-----+------------------+------------------+----+-----+-------+\n",
      "\n"
     ]
    },
    {
     "name": "stderr",
     "output_type": "stream",
     "text": [
      "25/08/23 23:06:01 WARN WindowExec: No Partition Defined for Window operation! Moving all data to a single partition, this can cause serious performance degradation.\n",
      "25/08/23 23:06:01 WARN WindowExec: No Partition Defined for Window operation! Moving all data to a single partition, this can cause serious performance degradation.\n"
     ]
    }
   ],
   "source": [
    "from pyspark.sql import functions as F\n",
    "from pyspark.sql.functions import rank, sum, col\n",
    "from pyspark.sql import Window\n",
    "\n",
    "\n",
    "# unboundedPreceding: 현재 행 이전의 모든 행을 포함\n",
    "# unboundedFollowing: 현재 행 이후의 모든 행을 포함\n",
    "window = Window.rowsBetween(Window.unboundedPreceding, Window.unboundedFollowing)\n",
    "\n",
    "\n",
    "tab = (\n",
    "    df.select([\"Age\", \"Credit amount\"])\n",
    "    .withColumn(\"age_class\", (col(\"Age\") / 10).cast(\"int\"))\n",
    "    .groupBy(\"age_class\")\n",
    "    .agg(\n",
    "        F.count(\"Credit amount\").alias(\"count\"),\n",
    "        F.mean(\"Credit amount\").alias(\"mean\"),\n",
    "        F.stddev(\"Credit amount\").alias(\"stddev\"),\n",
    "        F.min(\"Credit amount\").alias(\"min\"),\n",
    "        F.max(\"Credit amount\").alias(\"max\"),\n",
    "    )\n",
    "    .withColumn(\n",
    "        \"total\", sum(col(\"count\")).over(window)\n",
    "    )  # 전체 row(count)에 대한 sum을 한 후\n",
    "    .withColumn(\"Percent\", col(\"count\") / col(\"total\"))  # 각 그룹의 비율을 계산\n",
    "    .drop(col(\"total\"))\n",
    ")\n",
    "\n",
    "tab.show()"
   ]
  },
  {
   "cell_type": "markdown",
   "id": "e9637ea8",
   "metadata": {},
   "source": [
    "Draw pie plot"
   ]
  },
  {
   "cell_type": "code",
   "execution_count": 10,
   "id": "918f0300",
   "metadata": {},
   "outputs": [
    {
     "name": "stderr",
     "output_type": "stream",
     "text": [
      "25/08/23 23:06:01 WARN WindowExec: No Partition Defined for Window operation! Moving all data to a single partition, this can cause serious performance degradation.\n",
      "25/08/23 23:06:01 WARN WindowExec: No Partition Defined for Window operation! Moving all data to a single partition, this can cause serious performance degradation.\n",
      "25/08/23 23:06:01 WARN WindowExec: No Partition Defined for Window operation! Moving all data to a single partition, this can cause serious performance degradation.\n",
      "25/08/23 23:06:01 WARN WindowExec: No Partition Defined for Window operation! Moving all data to a single partition, this can cause serious performance degradation.\n",
      "25/08/23 23:06:01 WARN WindowExec: No Partition Defined for Window operation! Moving all data to a single partition, this can cause serious performance degradation.\n",
      "25/08/23 23:06:01 WARN WindowExec: No Partition Defined for Window operation! Moving all data to a single partition, this can cause serious performance degradation.\n",
      "25/08/23 23:06:01 WARN WindowExec: No Partition Defined for Window operation! Moving all data to a single partition, this can cause serious performance degradation.\n"
     ]
    },
    {
     "data": {
      "image/png": "[encoded data removed]",
      "text/plain": [
       "<Figure size 1000x800 with 1 Axes>"
      ]
     },
     "metadata": {},
     "output_type": "display_data"
    }
   ],
   "source": [
    "import matplotlib.pyplot as plt\n",
    "\n",
    "# Data to plot\n",
    "labels = tab.select(\"age_class\").toPandas()[\"age_class\"]\n",
    "sizes = tab.select(\"Percent\").toPandas()[\"Percent\"]\n",
    "colors = [\"gold\", \"yellowgreen\", \"lightcoral\", \"blue\", \"lightskyblue\", \"green\", \"red\"]\n",
    "\n",
    "plt.figure(figsize=(10, 8))\n",
    "plt.pie(\n",
    "    sizes,\n",
    "    labels=labels,\n",
    "    colors=colors,\n",
    "    autopct=\"%1.1f%%\",\n",
    "    shadow=True,\n",
    "    startangle=140,\n",
    ")\n",
    "plt.axis(\"equal\")\n",
    "\n",
    "plt.show()"
   ]
  },
  {
   "cell_type": "markdown",
   "id": "7025ae60",
   "metadata": {},
   "source": [
    "## 7.2 Multivariate Analysis"
   ]
  },
  {
   "cell_type": "markdown",
   "id": "2c4115ef",
   "metadata": {},
   "source": [
    "### 7.2.1 Numerical V.S. Numerical"
   ]
  },
  {
   "cell_type": "markdown",
   "id": "8fc43103",
   "metadata": {},
   "source": [
    "Correlation Plot"
   ]
  },
  {
   "cell_type": "code",
   "execution_count": null,
   "id": "671511fd",
   "metadata": {},
   "outputs": [
    {
     "data": {
      "image/png": "[encoded data removed]",
      "text/plain": [
       "<Figure size 1000x800 with 2 Axes>"
      ]
     },
     "metadata": {},
     "output_type": "display_data"
    }
   ],
   "source": [
    "# correlation matrix\n",
    "# from pyspark.mllib.stat import Statistics\n",
    "from pyspark.ml.stat import Correlation\n",
    "from pyspark.ml.feature import VectorAssembler\n",
    "import seaborn as sns\n",
    "import matplotlib.pyplot as plt\n",
    "\n",
    "num_cols = [\"Credit amount\", \"Duration\"]\n",
    "corr_data = df.select(num_cols)\n",
    "\n",
    "col_names = corr_data.columns\n",
    "# mllib은 구버전의 rdd만 지원하므로, 데이터프레임을 rdd로 변환해야함.\n",
    "# RDD의 각 Row 객체를 벡터 형태로 변환하기 위해 map 사용\n",
    "# Statistics.corr()는 RDD[Vector] 형태의 데이터를 요구하므로 모든 값을 슬라이싱 하여 벡터로 변환\n",
    "features = VectorAssembler(inputCols=col_names, outputCol=\"features\").transform(\n",
    "    corr_data\n",
    ")\n",
    "\n",
    "# 상관관게 계산\n",
    "corr_mat = Correlation.corr(features, \"features\", method=\"pearson\").collect()[0][0]\n",
    "\n",
    "# 시각화\n",
    "plt.figure(figsize=(10, 8))\n",
    "sns.heatmap(corr_mat.toArray(), annot=True, fmt=\".2f\", cmap=\"coolwarm\", vmin=-1, vmax=1)\n",
    "ax = plt.gca()\n",
    "ax.set_xticklabels(col_names)\n",
    "ax.set_yticklabels(col_names)\n",
    "plt.show()"
   ]
  },
  {
   "cell_type": "markdown",
   "id": "eeabe790",
   "metadata": {},
   "source": [
    "###  Pearson's Chi-squared test\n",
    "[refs](https://m.blog.naver.com/gksshdk8003/222305638201)\n",
    "\n",
    "카이제곱검정은 크게 세 가지 경우에서 사용된다.\n",
    "1. 적합도 검정: 변수가 특정 분포를 따르는지 확인하고 싶은 경우 \n",
    "2. 동질성 검정: 두 개 이상의 모집단에서 하나의 변수의 분포가 동일한지 검정 (e.g., 남성/여성 모집단에서 각 표본을 추출하여 좋아하는 음료 분포가 동일한지)\n",
    "3. 독립성 검정: 하나의 모집단에서 두 개의 범주형 변수가 서로 연관성이 있는지/독립인지 검정 (e.g., 한 고등학교 학생들 중 성별과 좋아하는 과목 간에 연관성이 있는지 확인) "
   ]
  },
  {
   "cell_type": "code",
   "execution_count": null,
   "id": "33bca65b",
   "metadata": {},
   "outputs": [
    {
     "name": "stdout",
     "output_type": "stream",
     "text": [
      "Chi-squared test with flatten=True:\n",
      "degrees of freedom: Row(degreesOfFreedom=3)\n",
      "statistic: 4.0\n",
      "p-value: 0.2614641299491107\n",
      "Chi-squared test with flatten=False:\n",
      "pValues: [0.2614641299491107,0.04550026389635764,1.0]\n",
      "degreesOfFreedom: [3, 1, 0]\n",
      "statistics: [4.0,4.0,0.0]\n"
     ]
    }
   ],
   "source": [
    "from pyspark.ml.linalg import Vectors\n",
    "from pyspark.ml.stat import ChiSquareTest\n",
    "\n",
    "# 동질성 검정, x=dense vector, y=0 or 1\n",
    "dataset = [\n",
    "    [0, Vectors.dense([0, 0, 1])],\n",
    "    [0, Vectors.dense([1, 0, 1])],\n",
    "    [1, Vectors.dense([2, 1, 1])],\n",
    "    [1, Vectors.dense([3, 1, 1])],\n",
    "]\n",
    "dataset = spark.createDataFrame(dataset, [\"label\", \"features\"])\n",
    "\n",
    "# Flatten=True, 각 변수별로 검정 결과를 row 별로 확인\n",
    "chiSqResult = ChiSquareTest.test(dataset, \"features\", \"label\", flatten=True)\n",
    "print(\"Chi-squared test with flatten=True:\")\n",
    "print(f\"degrees of freedom: {chiSqResult.select('degreesOfFreedom').collect()[0]}\")\n",
    "row = chiSqResult.orderBy(\"featureIndex\").collect()\n",
    "print(f\"statistic: {str(row[0].statistic)}\")\n",
    "print(f\"p-value: {str(row[0].pValue)}\")\n",
    "\n",
    "# Flatten=False, 모든 변수의 검정 결과가 하나의 로우에 담김\n",
    "print(\"Chi-squared test with flatten=False:\")\n",
    "chiSqResult = ChiSquareTest.test(dataset, \"features\", \"label\", flatten=False).head()\n",
    "print(\"pValues: \" + str(chiSqResult.pValues))\n",
    "print(\"degreesOfFreedom: \" + str(chiSqResult.degreesOfFreedom))\n",
    "print(\"statistics: \" + str(chiSqResult.statistics))"
   ]
  },
  {
   "cell_type": "code",
   "execution_count": null,
   "id": "2c2ce123",
   "metadata": {},
   "outputs": [],
   "source": []
  }
 ],
 "metadata": {
  "kernelspec": {
   "display_name": ".venv",
   "language": "python",
   "name": "python3"
  },
  "language_info": {
   "codemirror_mode": {
    "name": "ipython",
    "version": 3
   },
   "file_extension": ".py",
   "mimetype": "text/x-python",
   "name": "python",
   "nbconvert_exporter": "python",
   "pygments_lexer": "ipython3",
   "version": "3.9.21"
  }
 },
 "nbformat": 4,
 "nbformat_minor": 5
}
